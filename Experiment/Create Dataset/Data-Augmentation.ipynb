{
 "cells": [
  {
   "cell_type": "code",
   "execution_count": 3,
   "id": "e071a7e6",
   "metadata": {},
   "outputs": [],
   "source": [
    "import pandas as pd\n",
    "import spacy\n",
    "import json\n",
    "from tqdm import tqdm"
   ]
  },
  {
   "cell_type": "markdown",
   "id": "3a946480",
   "metadata": {},
   "source": [
    "### Load data"
   ]
  },
  {
   "cell_type": "code",
   "execution_count": 38,
   "id": "8e9fae4e",
   "metadata": {},
   "outputs": [],
   "source": [
    "lang = 'zh'\n",
    "Set = 'train'\n",
    "extractor = 'LM'"
   ]
  },
  {
   "cell_type": "code",
   "execution_count": 39,
   "id": "b1730bf1",
   "metadata": {},
   "outputs": [
    {
     "data": {
      "text/plain": [
       "array(['bn', 'de', 'en', 'es', 'fa', 'fr', 'hi', 'it', 'pt', 'sv', 'uk',\n",
       "       'zh'], dtype=object)"
      ]
     },
     "execution_count": 39,
     "metadata": {},
     "output_type": "execute_result"
    }
   ],
   "source": [
    "data= pd.read_csv(f'../Dataset/{Set}.csv')\n",
    "data.lang.unique()"
   ]
  },
  {
   "cell_type": "code",
   "execution_count": 40,
   "id": "6636e5ef",
   "metadata": {},
   "outputs": [],
   "source": [
    "data = data[data['lang']==lang]\n"
   ]
  },
  {
   "cell_type": "markdown",
   "id": "4d4f9aa9",
   "metadata": {},
   "source": [
    "### Information Extraction Pipeline"
   ]
  },
  {
   "cell_type": "code",
   "execution_count": 41,
   "id": "e40ce873",
   "metadata": {},
   "outputs": [],
   "source": [
    "from transformers import AutoTokenizer, AutoModelForTokenClassification\n",
    "from transformers import pipeline\n",
    "tokenizer = AutoTokenizer.from_pretrained(\"Davlan/xlm-roberta-base-ner-hrl\")\n",
    "model = AutoModelForTokenClassification.from_pretrained(\"Davlan/xlm-roberta-base-ner-hrl\")\n",
    "nlp = pipeline(\"ner\", model=model, tokenizer=tokenizer)\n"
   ]
  },
  {
   "cell_type": "code",
   "execution_count": 42,
   "id": "e3be702d",
   "metadata": {},
   "outputs": [],
   "source": [
    "#import the pipeline class\n",
    "\n",
    "\n",
    "from InformationExtraction import InformationExtractionPipeline\n",
    "\n",
    "\n",
    "# example spacy extractor function\n",
    "NER = spacy.load(\"en_core_web_lg\")\n",
    "def tag_extraction_from_spacy(sen, model = NER):\n",
    "    \n",
    "    annotated = model(sen)\n",
    "    extracted_names = [word.text for word in annotated.ents \n",
    "                       if word.label_=='PERSON' or word.label_=='ORG'or word.label_=='GPE']\n",
    "    \n",
    "    \n",
    "    return extracted_names\n",
    "\n",
    "\n",
    "def tag_extraction_from_LM(sen, lang, model = nlp):\n",
    "    \n",
    "    if lang=='zh':\n",
    "        sen = sen.replace(\" \",\"\")\n",
    "    \n",
    "    ner_results = model(sen)\n",
    "    extracted_names = []\n",
    "\n",
    "    for idx in range(len(ner_results)):\n",
    "        if ner_results[idx]['entity'][0] == 'B':\n",
    "            start = ner_results[idx]['start']\n",
    "            end = ner_results[idx]['end']\n",
    "            j = idx+1\n",
    "            while j < len(ner_results):\n",
    "                if ner_results[j]['entity'][0] == 'B':\n",
    "                    break\n",
    "                elif ner_results[j]['entity'][0] == 'I':\n",
    "                    end = ner_results[j]['end']\n",
    "                j+=1\n",
    "            idx = j\n",
    "        \n",
    "            extracted_names.append(sen[start:end].strip())\n",
    "    \n",
    "    \n",
    "    return extracted_names\n",
    "\n",
    "\n",
    "# example extractor function that uses training labels \n",
    "sent_to_tag = dict(zip(data['sent'],data['labels']))\n",
    "def tag_extraction_from_tags(sent, lang, sent_to_tag=sent_to_tag):\n",
    "\n",
    "    tags = sent_to_tag[sent]\n",
    "        \n",
    "    sentsWithtags = [(s,t) for s,t in zip(sent.split(),tags.split())]\n",
    "        \n",
    "        \n",
    "    entity_list = []\n",
    "    for i,item in enumerate(sentsWithtags):\n",
    "        if 'B-' in item[1]:\n",
    "            j = i\n",
    "            entity = []\n",
    "            while j<len(sentsWithtags):\n",
    "                if sentsWithtags[j][1] =='O':\n",
    "                    break\n",
    "                entity.append(sentsWithtags[j][0])\n",
    "                j+=1\n",
    "            i = j\n",
    "             \n",
    "            if lang=='zh':\n",
    "                entity_list.append(\"\".join(entity))\n",
    "            \n",
    "            else:\n",
    "                entity_list.append(\" \".join(entity))\n",
    "            \n",
    "    \n",
    "\n",
    "    return entity_list\n",
    "\n",
    "\n"
   ]
  },
  {
   "cell_type": "code",
   "execution_count": 43,
   "id": "8a194912",
   "metadata": {},
   "outputs": [],
   "source": [
    "#create pipline object:\n",
    "#param: extractor: an entity extractor function that returns all the entities from a sentence\n",
    "#param: max_sen: define the number of sentences to be added for each detected entity\n",
    "#param: lang: define language. needed for wikipedia api\n",
    "#param: saveJson: whether to save extracted informaton as json file. Saves time if needed to run the pipeline again\n",
    "#param: loadJson: if you have saved a json file and want to use it\n",
    "#param: jsonPath: define saved json file path\n",
    "\n",
    "\n",
    "infoPipeline = InformationExtractionPipeline(extractor = tag_extraction_from_tags if extractor=='tags' else tag_extraction_from_LM, \n",
    "                                        max_sen = 2, lang = lang, \n",
    "                                        loadJson = True, jsonPath=f'wiki-info-{lang}-{Set}.json',\n",
    "                                        saveJson=False, saveJsonpath=f'wiki-info-{lang}-{Set}.json')"
   ]
  },
  {
   "cell_type": "code",
   "execution_count": 45,
   "id": "40c09795",
   "metadata": {},
   "outputs": [
    {
     "name": "stderr",
     "output_type": "stream",
     "text": [
      "  7%|██▊                                     | 685/9758 [02:17<32:42,  4.62it/s]"
     ]
    },
    {
     "name": "stdout",
     "output_type": "stream",
     "text": [
      "HTTPSConnectionPool(host='zh.wikipedia.org', port=443): Max retries exceeded with url: /w/api.php?action=query&prop=info&titles=magna&inprop=protection%7Ctalkid%7Cwatched%7Cwatchers%7Cvisitingwatchers%7Cnotificationtimestamp%7Csubjectid%7Curl%7Creadable%7Cpreload%7Cdisplaytitle&format=json&redirects=1 (Caused by NewConnectionError('<urllib3.connection.HTTPSConnection object at 0x7f1dff3e0af0>: Failed to establish a new connection: [Errno 101] Network is unreachable'))\n"
     ]
    },
    {
     "name": "stderr",
     "output_type": "stream",
     "text": [
      " 21%|████████▎                              | 2090/9758 [09:47<31:07,  4.11it/s]"
     ]
    },
    {
     "name": "stdout",
     "output_type": "stream",
     "text": [
      "HTTPSConnectionPool(host='zh.wikipedia.org', port=443): Read timed out. (read timeout=10.0)\n"
     ]
    },
    {
     "name": "stderr",
     "output_type": "stream",
     "text": [
      " 26%|█████████▉                             | 2493/9758 [13:25<24:05,  5.03it/s]"
     ]
    },
    {
     "name": "stdout",
     "output_type": "stream",
     "text": [
      "HTTPSConnectionPool(host='zh.wikipedia.org', port=443): Read timed out. (read timeout=10.0)\n"
     ]
    },
    {
     "name": "stderr",
     "output_type": "stream",
     "text": [
      " 80%|███████████████████████████████        | 7766/9758 [29:40<06:29,  5.11it/s]"
     ]
    },
    {
     "name": "stdout",
     "output_type": "stream",
     "text": [
      "HTTPSConnectionPool(host='zh.wikipedia.org', port=443): Read timed out. (read timeout=10.0)\n"
     ]
    },
    {
     "name": "stderr",
     "output_type": "stream",
     "text": [
      "100%|███████████████████████████████████████| 9758/9758 [35:51<00:00,  4.54it/s]\n"
     ]
    }
   ],
   "source": [
    "#call pipline and provide list of sentences as argument\n",
    "\n",
    "augmented = infoPipeline(data['sent'].values.tolist())"
   ]
  },
  {
   "cell_type": "markdown",
   "id": "c9c550fe",
   "metadata": {},
   "source": [
    "### Info Percentage"
   ]
  },
  {
   "cell_type": "code",
   "execution_count": 46,
   "id": "e146f550",
   "metadata": {},
   "outputs": [],
   "source": [
    "data['augmented_sen'] = augmented\n",
    "temp = data[data['sent']!=data['augmented_sen']]\n"
   ]
  },
  {
   "cell_type": "code",
   "execution_count": 47,
   "id": "a6fb1045",
   "metadata": {},
   "outputs": [
    {
     "name": "stdout",
     "output_type": "stream",
     "text": [
      "Info Percentage: 30.14%\n"
     ]
    }
   ],
   "source": [
    "info_percent = temp.shape[0]/data.shape[0]\n",
    "print(f\"Info Percentage: {info_percent*100:.2f}%\")"
   ]
  },
  {
   "cell_type": "code",
   "execution_count": 52,
   "id": "715fe9a9",
   "metadata": {},
   "outputs": [],
   "source": [
    "import re\n",
    "\n",
    "def separate_funct(sent):\n",
    "    \n",
    "\n",
    "    regex = re.compile(\"[\\u4e00-\\u9fff]|\\:|\\.\\d+|\\.|·\\S+·?|·|·「|」·|「|」|[^\\u4e00-\\u9fff\\s]+\")\n",
    "\n",
    "#     return regex.findall(sent)\n",
    "    return \" \".join(regex.findall(sent)).strip()"
   ]
  },
  {
   "cell_type": "code",
   "execution_count": 75,
   "id": "33b58eb1",
   "metadata": {},
   "outputs": [],
   "source": [
    "# if lang=='zh':\n",
    "data['augmented_sen'] = data['augmented_sen'].apply(lambda x: separate_funct(x))\n",
    "data['sent'] = data['sent'].apply(lambda x: separate_funct(x))"
   ]
  },
  {
   "cell_type": "code",
   "execution_count": 76,
   "id": "68c07434",
   "metadata": {},
   "outputs": [
    {
     "name": "stdout",
     "output_type": "stream",
     "text": [
      "Info Percentage: 30.16%\n"
     ]
    }
   ],
   "source": [
    "# data['augmented_sen'] = augmented\n",
    "temp = data[data['sent']!=data['augmented_sen']]\n",
    "info_percent = temp.shape[0]/data.shape[0]\n",
    "print(f\"Info Percentage: {info_percent*100:.2f}%\")"
   ]
  },
  {
   "cell_type": "code",
   "execution_count": 68,
   "id": "3b14ee02",
   "metadata": {},
   "outputs": [
    {
     "data": {
      "text/plain": [
       "0"
      ]
     },
     "execution_count": 68,
     "metadata": {},
     "output_type": "execute_result"
    }
   ],
   "source": [
    "count = 0\n",
    "# Set = 'train'\n",
    "# lang = 'zh'\n",
    "\n",
    "# data = pd.read_csv(f'../Dataset/{Set}-wiki-{lang}-LM.csv')\n",
    "# data = data[data['lang']==lang]\n",
    "for s,l in zip(data['sent'],data['labels']):\n",
    "    \n",
    "#     print(s)\n",
    "    if len(separate_funct(s).split())!=len(l.split()):\n",
    "        print(s)\n",
    "        count+=1\n",
    "count"
   ]
  },
  {
   "cell_type": "code",
   "execution_count": 60,
   "id": "118b09ba",
   "metadata": {},
   "outputs": [
    {
     "data": {
      "text/plain": [
       "'州 长 山 本 一 太 说 他 希 望 此 举 能 传 达 积 极 的 信 息 并 促 进 多 样 性 . 山 本 一 太 （1958 年 1 月 24 日 －）， 日 本 政 治 家 ， 群 馬 縣 知 事 ， 前 自 由 民 主 黨 黨 員 。 出 身 於 群 馬 縣 高 崎 市 （ 舊 群 馬 郡 倉 淵 村 ）。1995 年 至 今 連 續 當 選 4 屆 參 議 院 議 員 。 中 央 大 學 大 學 院 客 席 教 授 。 歷 任 外 務 政 務 次 官 、 參 議 院 外 交 防 衛 委 員 長 、 外 務 副 大 臣 等 職 務 。2012 年 首 次 入 閣 ， 被 任 命 為 第 二 次 安 倍 內 閣 的 内 閣 府 特 命 擔 當 大 臣 （ 科 學 技 術 政 策 ·北方及北方對策·宇宙政策擔當）父親山本富雄也是政治家，曾擔任農林水產大臣。'"
      ]
     },
     "execution_count": 60,
     "metadata": {},
     "output_type": "execute_result"
    }
   ],
   "source": [
    "data['augmented_sen'].iloc[35]"
   ]
  },
  {
   "cell_type": "markdown",
   "id": "a7e4110c",
   "metadata": {},
   "source": [
    "### Save Augmented Data"
   ]
  },
  {
   "cell_type": "code",
   "execution_count": 61,
   "id": "d3a49a36",
   "metadata": {},
   "outputs": [],
   "source": [
    "data.to_csv(f'../Dataset/{Set}-wiki-{lang}-{extractor}.csv',index=False)"
   ]
  },
  {
   "cell_type": "code",
   "execution_count": 62,
   "id": "d5145932",
   "metadata": {},
   "outputs": [],
   "source": [
    "# get_info('dev','de')\n",
    "Set = 'train'\n",
    "lang = 'zh'\n",
    "\n",
    "data = pd.read_csv(f'../Dataset/{Set}-wiki-{lang}-LM.csv')\n",
    "data = data[data['lang']==lang]\n",
    "\n",
    "# data['sent'] = data['sent'].apply(lambda x: separate_funct(x))\n",
    "# data.to_csv(f'../Dataset/{Set}-wiki-{lang}-LM.csv',index=False)\n",
    "# sent_to_tag = dict(zip(data['sent'],data['labels']))"
   ]
  },
  {
   "cell_type": "code",
   "execution_count": 73,
   "id": "5fb0ce28",
   "metadata": {},
   "outputs": [
    {
     "data": {
      "text/plain": [
       "'新 國 家 黨 ( saenuri dang ) 由 朴 槿 惠 领 导 . 朴 槿 惠 （ 韩 语 ：박근혜／ 朴 槿 惠 park geun-hye；1952 年 2 月 2 日 －）， 大 韩 民 国 第 18 任 總 統 ， 前 总 统 朴 正 熙 长 女 ， 韩 国 宪 政 史 上 首 位 女 性 总 统 ， 首 位 在 韩 战 爆 发 后 出 生 的 总 统 和 首 位 “ 二 代 总 统 ”， 韩 国 目 前 唯 一 曾 代 理 过 第 一 夫 人 的 总 统 。 朴 槿 惠 也 是 韩 国 自 1987 年 開 始 民 主 化 以 來 唯 一 一 位 在 總 統 選 舉 中 得 票 率 過 半 的 總 統 。 朴 槿 惠 1952 年 2 月 2 日 出 生 于 朝 鲜 战 争 时 期 的 韓 國 庆 尚 北 道 大 邱 市 ，1974 年 从 西 江 大 学 电 子 工 程 系 毕 业 后 ， 留 学 法 国 。 期 间 ， 其 母 陆 英 修 在 1974 年 8 月 15 日 韩 国 光 复 29 周 年 纪 念 典 礼 上 被 朝 鲜 间 谍 文 世 光 杀 害 。 由 于 朴 正 熙 无 意 再 娶 ， 朴 槿 惠 代 替 其 母 履 行 韓 國 第 一 夫 人 的 职 责 。1979 年 10 月 26 日 ， 朴 正 熙 被 韓 國 中 央 情 报 部 部 长 金 载 圭 枪 杀 后 ， 她 带 着 妹 妹 和 弟 弟 从 青 瓦 台 搬 回 位 于 新 堂 洞 的 老 宅 。1997 年 亚 洲 金 融 危 机 时 期 ， 她 结 束 隐 居 生 活 正 式 进 入 政 坛 。 此 后 她 先 后 出 任 大 国 家 党 副 代 表 以 及 代 表 ， 连 续 5 次 当 选 国 会 议 员 ，2012 年 ， 以 韩 国 总 统 选 举 历 史 上 首 次 超 过 半 数 的 得 票 率 （51.6%） 成 功 当 选 韩 国 第 18 任 总 统 ， 成 为 韩 国 乃 至 东 北 亚 地 區 历 史 上 首 位 民 選 女 性 国 家 元 首 。2016 年 12 月 9 日 ， 朴 槿 惠 因 崔 順 實 事 件 而 被 大 韓 民 國 國 會 通 過 弹 劾 ，2017 年 3 月 10 日 ， 韓 國 宪 法 法 院 裁 定 弹 劾 成 立 ， 使 她 成 为 大 韓 民 國 歷 史 上 首 位 因 彈 劾 而 下 台 的 總 統 。'"
      ]
     },
     "execution_count": 73,
     "metadata": {},
     "output_type": "execute_result"
    }
   ],
   "source": [
    "data['augmented_sen'].tolist()[1]"
   ]
  },
  {
   "cell_type": "code",
   "execution_count": 74,
   "id": "ef29ab6b",
   "metadata": {},
   "outputs": [
    {
     "data": {
      "text/plain": [
       "'新  國  家  黨  (  saenuri  dang  )  由  朴  槿  惠  领  导  . '"
      ]
     },
     "execution_count": 74,
     "metadata": {},
     "output_type": "execute_result"
    }
   ],
   "source": [
    "sent = data['sent'].tolist()[1]\n",
    "sent"
   ]
  },
  {
   "cell_type": "code",
   "execution_count": 17,
   "id": "c23f2138",
   "metadata": {},
   "outputs": [],
   "source": [
    "sent = data['sent'].tolist()[127]"
   ]
  },
  {
   "cell_type": "code",
   "execution_count": 18,
   "id": "535f6e98",
   "metadata": {},
   "outputs": [
    {
     "data": {
      "text/plain": [
       "'在  亨  利  ·  德  保  蒙  的  指  挥  下  灰  色  在  围  困  中  进  行  了  战  斗  . '"
      ]
     },
     "execution_count": 18,
     "metadata": {},
     "output_type": "execute_result"
    }
   ],
   "source": [
    "sent"
   ]
  },
  {
   "cell_type": "code",
   "execution_count": 19,
   "id": "df9c7b5c",
   "metadata": {},
   "outputs": [
    {
     "data": {
      "text/plain": [
       "['亨利·德保蒙']"
      ]
     },
     "execution_count": 19,
     "metadata": {},
     "output_type": "execute_result"
    }
   ],
   "source": [
    "out = tag_extraction_from_LM(sent,lang)\n",
    "out"
   ]
  },
  {
   "cell_type": "code",
   "execution_count": 20,
   "id": "d69ffba0",
   "metadata": {},
   "outputs": [
    {
     "data": {
      "text/plain": [
       "['亨利·德保蒙']"
      ]
     },
     "execution_count": 20,
     "metadata": {},
     "output_type": "execute_result"
    }
   ],
   "source": [
    "out = tag_extraction_from_tags(sent,lang)\n",
    "out"
   ]
  },
  {
   "cell_type": "code",
   "execution_count": 29,
   "id": "c8eafec3",
   "metadata": {},
   "outputs": [
    {
     "data": {
      "text/plain": [
       "' O  O  O  B-Politician  I-Politician  I-Politician  I-Politician  I-Politician  I-Politician  I-Politician  O  B-OtherPER  I-OtherPER  I-OtherPER  I-OtherPER  I-OtherPER  I-OtherPER  I-OtherPER  O  O  O  O  O  O  O  O  O  O  O  O  O  O'"
      ]
     },
     "execution_count": 29,
     "metadata": {},
     "output_type": "execute_result"
    }
   ],
   "source": [
    "labels = data['labels'].tolist()[4]\n",
    "labels"
   ]
  },
  {
   "cell_type": "code",
   "execution_count": 39,
   "id": "6f5c7362",
   "metadata": {},
   "outputs": [
    {
     "data": {
      "text/plain": [
       "'新 國 家 黨 ( saenuri dang ) 由 朴 槿 惠 领 导 . 自 由 韓 國 黨 （ 韩 语 ：자유한국당／ 自 由 韓 國 黨 jayuhangukdang）， 简 称 自 韓 黨 或 韓 國 黨 ， 大 韓 民 國 已 解 散 的 保 守 主 义 右 翼 政 黨 ， 原 名 大 国 家 党 （ 韩 语 ：한나라당／한나라 黨 hannaradang），2012 年 更 名 為 新 世 界 党 （ 韩 语 ：새누리당／새누리 黨 saenuridang），2017 年 更 名 为 最 終 黨 名 。2020 年 2 月 17 日 ， 與 新 保 守 黨 、 向 未 來 前 進 4.0 合 併 為 未 來 統 合 黨 而 解 散 。 支 持 者 主 要 为 40 岁 以 上 中 年 和 老 年 人 ， 以 及 慶 尚 道 、 釜 山 和 大 邱 一 帶 。 歷 經 2016 年 崔 順 實 干 政 醜 聞 及 文 在 寅 政 府 執 政 後 ，2018 年 地 方 選 舉 慘 敗 ， 失 去 多 個 廣 域 市 和 地 方 議 會 的 席 位 ， 但 解 散 前 仍 為 韓 國 政 壇 的 第 一 大 在 野 黨 。 朴 槿 惠 （ 韩 语 ：박근혜／ 朴 槿 惠 park geun-hye；1952 年 2 月 2 日 －）， 大 韩 民 国 第 18 任 總 統 ， 前 总 统 朴 正 熙 长 女 ， 韩 国 宪 政 史 上 首 位 女 性 总 统 ， 首 位 在 韩 战 爆 发 后 出 生 的 总 统 和 首 位 “ 二 代 总 统 ”， 韩 国 目 前 唯 一 曾 代 理 过 第 一 夫 人 的 总 统 。 朴 槿 惠 也 是 韩 国 自 1987 年 開 始 民 主 化 以 來 唯 一 一 位 在 總 統 選 舉 中 得 票 率 過 半 的 總 統 。 朴 槿 惠 1952 年 2 月 2 日 出 生 于 朝 鲜 战 争 时 期 的 韓 國 庆 尚 北 道 大 邱 市 ，1974 年 从 西 江 大 学 电 子 工 程 系 毕 业 后 ， 留 学 法 国 。 期 间 ， 其 母 陆 英 修 在 1974 年 8 月 15 日 韩 国 光 复 29 周 年 纪 念 典 礼 上 被 朝 鲜 间 谍 文 世 光 杀 害 。 由 于 朴 正 熙 无 意 再 娶 ， 朴 槿 惠 代 替 其 母 履 行 韓 國 第 一 夫 人 的 职 责 。1979 年 10 月 26 日 ， 朴 正 熙 被 韓 國 中 央 情 报 部 部 长 金 载 圭 枪 杀 后 ， 她 带 着 妹 妹 和 弟 弟 从 青 瓦 台 搬 回 位 于 新 堂 洞 的 老 宅 。1997 年 亚 洲 金 融 危 机 时 期 ， 她 结 束 隐 居 生 活 正 式 进 入 政 坛 。 此 后 她 先 后 出 任 大 国 家 党 副 代 表 以 及 代 表 ， 连 续 5 次 当 选 国 会 议 员 ，2012 年 ， 以 韩 国 总 统 选 举 历 史 上 首 次 超 过 半 数 的 得 票 率 （51.6%） 成 功 当 选 韩 国 第 18 任 总 统 ， 成 为 韩 国 乃 至 东 北 亚 地 區 历 史 上 首 位 民 選 女 性 国 家 元 首 。2016 年 12 月 9 日 ， 朴 槿 惠 因 崔 順 實 事 件 而 被 大 韓 民 國 國 會 通 過 弹 劾 ，2017 年 3 月 10 日 ， 韓 國 宪 法 法 院 裁 定 弹 劾 成 立 ， 使 她 成 为 大 韓 民 國 歷 史 上 首 位 因 彈 劾 而 下 台 的 總 統 。'"
      ]
     },
     "execution_count": 39,
     "metadata": {},
     "output_type": "execute_result"
    }
   ],
   "source": [
    "sent = data['augmented_sen'].tolist()[1]\n",
    "sent\n",
    "# separate_funct(sent)"
   ]
  },
  {
   "cell_type": "code",
   "execution_count": 84,
   "id": "976db363",
   "metadata": {},
   "outputs": [
    {
     "data": {
      "text/plain": [
       "2081"
      ]
     },
     "execution_count": 84,
     "metadata": {},
     "output_type": "execute_result"
    }
   ],
   "source": [
    "# sent = \"她  在  1947  年  通  过  清  唱  套  曲  设  置  阿  尔  图  尔  ·  兰  波  诗  歌  saisons  châteaux  的  诗  .\"\n",
    "count = 0\n",
    "Set = 'train'\n",
    "lang = 'zh'\n",
    "\n",
    "data = pd.read_csv(f'../Dataset/{Set}-wiki-{lang}-LM.csv')\n",
    "data = data[data['lang']==lang]\n",
    "for s,l in zip(data['sent'],data['labels']):\n",
    "    \n",
    "#     print(s)\n",
    "    if len(separate_funct(s).split())!=len(l.split()):\n",
    "#         print(s)\n",
    "        count+=1\n",
    "count"
   ]
  },
  {
   "cell_type": "code",
   "execution_count": 31,
   "id": "5fa5e8bf",
   "metadata": {},
   "outputs": [
    {
     "data": {
      "text/plain": [
       "'新 國 家 黨 ( saenuri dang ) 由 朴 槿 惠 领 导 . 自 由 韓 國 黨 （ 韩 语 ：자유한국당／ 自 由 韓 國 黨 jayuhangukdang）， 简 称 自 韓 黨 或 韓 國 黨 ， 大 韓 民 國 已 解 散 的 保 守 主 义 右 翼 政 黨 ， 原 名 大 国 家 党 （ 韩 语 ：한나라당／한나라 黨 hannaradang），2012 年 更 名 為 新 世 界 党 （ 韩 语 ：새누리당／새누리 黨 saenuridang），2017 年 更 名 为 最 終 黨 名 。2020 年 2 月 17 日 ， 與 新 保 守 黨 、 向 未 來 前 進 4.0 合 併 為 未 來 統 合 黨 而 解 散 。 支 持 者 主 要 为 40 岁 以 上 中 年 和 老 年 人 ， 以 及 慶 尚 道 、 釜 山 和 大 邱 一 帶 。 歷 經 2016 年 崔 順 實 干 政 醜 聞 及 文 在 寅 政 府 執 政 後 ，2018 年 地 方 選 舉 慘 敗 ， 失 去 多 個 廣 域 市 和 地 方 議 會 的 席 位 ， 但 解 散 前 仍 為 韓 國 政 壇 的 第 一 大 在 野 黨 。 朴 槿 惠 （ 韩 语 ：박근혜／ 朴 槿 惠 park geun-hye；1952 年 2 月 2 日 －）， 大 韩 民 国 第 18 任 總 統 ， 前 总 统 朴 正 熙 长 女 ， 韩 国 宪 政 史 上 首 位 女 性 总 统 ， 首 位 在 韩 战 爆 发 后 出 生 的 总 统 和 首 位 “ 二 代 总 统 ”， 韩 国 目 前 唯 一 曾 代 理 过 第 一 夫 人 的 总 统 。 朴 槿 惠 也 是 韩 国 自 1987 年 開 始 民 主 化 以 來 唯 一 一 位 在 總 統 選 舉 中 得 票 率 過 半 的 總 統 。 朴 槿 惠 1952 年 2 月 2 日 出 生 于 朝 鲜 战 争 时 期 的 韓 國 庆 尚 北 道 大 邱 市 ，1974 年 从 西 江 大 学 电 子 工 程 系 毕 业 后 ， 留 学 法 国 。 期 间 ， 其 母 陆 英 修 在 1974 年 8 月 15 日 韩 国 光 复 29 周 年 纪 念 典 礼 上 被 朝 鲜 间 谍 文 世 光 杀 害 。 由 于 朴 正 熙 无 意 再 娶 ， 朴 槿 惠 代 替 其 母 履 行 韓 國 第 一 夫 人 的 职 责 。1979 年 10 月 26 日 ， 朴 正 熙 被 韓 國 中 央 情 报 部 部 长 金 载 圭 枪 杀 后 ， 她 带 着 妹 妹 和 弟 弟 从 青 瓦 台 搬 回 位 于 新 堂 洞 的 老 宅 。1997 年 亚 洲 金 融 危 机 时 期 ， 她 结 束 隐 居 生 活 正 式 进 入 政 坛 。 此 后 她 先 后 出 任 大 国 家 党 副 代 表 以 及 代 表 ， 连 续 5 次 当 选 国 会 议 员 ，2012 年 ， 以 韩 国 总 统 选 举 历 史 上 首 次 超 过 半 数 的 得 票 率 （51.6%） 成 功 当 选 韩 国 第 18 任 总 统 ， 成 为 韩 国 乃 至 东 北 亚 地 區 历 史 上 首 位 民 選 女 性 国 家 元 首 。2016 年 12 月 9 日 ， 朴 槿 惠 因 崔 順 實 事 件 而 被 大 韓 民 國 國 會 通 過 弹 劾 ，2017 年 3 月 10 日 ， 韓 國 宪 法 法 院 裁 定 弹 劾 成 立 ， 使 她 成 为 大 韓 民 國 歷 史 上 首 位 因 彈 劾 而 下 台 的 總 統'"
      ]
     },
     "execution_count": 31,
     "metadata": {},
     "output_type": "execute_result"
    }
   ],
   "source": [
    "separate_funct('新  國  家  黨  (  saenuri  dang  )  由  朴  槿  惠  领  导  . 自由韓國黨（韩语：자유한국당／自由韓國黨 jayuhangukdang），简称自韓黨或韓國黨，大韓民國已解散的保守主义右翼政黨，原名大国家党（韩语：한나라당／한나라黨 hannaradang），2012年更名為新世界党（韩语：새누리당／새누리黨 saenuridang），2017年更名为最終黨名。2020年2月17日，與新保守黨、向未來前進4.0合併為未來統合黨而解散。支持者主要为40岁以上中年和老年人，以及慶尚道、釜山和大邱一帶。歷經2016年崔順實干政醜聞及文在寅政府執政後，2018年地方選舉慘敗，失去多個廣域市和地方議會的席位，但解散前仍為韓國政壇的第一大在野黨。 朴槿惠（韩语：박근혜／朴槿惠 park geun-hye；1952年2月2日－），大韩民国第18任總統，前总统朴正熙长女，韩国宪政史上首位女性总统，首位在韩战爆发后出生的总统和首位“二代总统”，韩国目前唯一曾代理过第一夫人的总统。朴槿惠也是韩国自1987年開始民主化以來唯一一位在總統選舉中得票率過半的總統。朴槿惠1952年2月2日出生于朝鲜战争时期的韓國庆尚北道大邱市，1974年从西江大学电子工程系毕业后，留学法国。期间，其母陆英修在1974年8月15日韩国光复29周年纪念典礼上被朝鲜间谍文世光杀害。由于朴正熙无意再娶，朴槿惠代替其母履行韓國第一夫人的职责。1979年10月26日，朴正熙被韓國中央情报部部长金载圭枪杀后，她带着妹妹和弟弟从青瓦台搬回位于新堂洞的老宅。1997年亚洲金融危机时期，她结束隐居生活正式进入政坛。此后她先后出任大国家党副代表以及代表，连续5次当选国会议员，2012年，以韩国总统选举历史上首次超过半数的得票率（51.6%）成功当选韩国第18任总统，成为韩国乃至东北亚地區历史上首位民選女性国家元首。2016年12月9日，朴槿惠因崔順實事件而被大韓民國國會通過弹劾，2017年3月10日，韓國宪法法院裁定弹劾成立，使她成为大韓民國歷史上首位因彈劾而下台的總統')"
   ]
  },
  {
   "cell_type": "code",
   "execution_count": 32,
   "id": "c71684bf",
   "metadata": {},
   "outputs": [
    {
     "data": {
      "text/plain": [
       "161054    內  穆  爾  ·  哈  克  政  治  顾  问  (  生  于  1949  年...\n",
       "161055    新  國  家  黨  (  saenuri  dang  )  由  朴  槿  惠  领...\n",
       "161056    拿  破  仑  还  委  托  a  庇  护  七  世  肖  像  大  卫  特...\n",
       "161057    约  翰  ·  兰  登  (  民  主  共  和  党  )  16  325  (...\n",
       "161058    沃  克  以  佛  萊  德  ·  漢  普  頓  和  弗  莱  德  ·  希...\n",
       "                                ...                        \n",
       "170807    肝  性  腦  病  變  中  也  指  示  乳  lactulose  . 肝性腦...\n",
       "170808    他  撰  写  了  许  多  关  于  同  性  恋  的  文  章  和  书...\n",
       "170809    为  这  首  歌  支  付  的  钱  捐  赠  给  了  艾  滋  病  研...\n",
       "170810    白  细  胞  是  發  炎  响  应  中  非  常  重  要  的  药  物...\n",
       "170811    更  强  烈  的  感  染  可  能  导  致  严  重  的  發  炎  周...\n",
       "Name: augmented_sen, Length: 9758, dtype: object"
      ]
     },
     "execution_count": 32,
     "metadata": {},
     "output_type": "execute_result"
    }
   ],
   "source": []
  },
  {
   "cell_type": "code",
   "execution_count": null,
   "id": "9b8e4081",
   "metadata": {},
   "outputs": [],
   "source": []
  }
 ],
 "metadata": {
  "kernelspec": {
   "display_name": "Python 3 (ipykernel)",
   "language": "python",
   "name": "python3"
  },
  "language_info": {
   "codemirror_mode": {
    "name": "ipython",
    "version": 3
   },
   "file_extension": ".py",
   "mimetype": "text/x-python",
   "name": "python",
   "nbconvert_exporter": "python",
   "pygments_lexer": "ipython3",
   "version": "3.10.6"
  }
 },
 "nbformat": 4,
 "nbformat_minor": 5
}
