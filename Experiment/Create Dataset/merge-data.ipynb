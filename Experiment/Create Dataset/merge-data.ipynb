{
 "cells": [
  {
   "cell_type": "code",
   "execution_count": 1,
   "id": "d4eb4ebd",
   "metadata": {},
   "outputs": [],
   "source": [
    "import pandas as pd\n",
    "import os"
   ]
  },
  {
   "cell_type": "code",
   "execution_count": 2,
   "id": "f3293d9d",
   "metadata": {},
   "outputs": [],
   "source": [
    "data = os.listdir('../Dataset')\n",
    "train_all = [\"../Dataset/\"+file for file in data if 'train' in file and 'tags' in file]\n",
    "dev_all = [\"../Dataset/\"+file for file in data if 'dev' in file and 'tags' in file]\n",
    "train_LM = [\"../Dataset/\"+file for file in data if 'train' in file and 'LM' in file]\n",
    "dev_LM = [\"../Dataset/\"+file for file in data if 'dev' in file and 'LM' in file]"
   ]
  },
  {
   "cell_type": "code",
   "execution_count": 3,
   "id": "73f85452",
   "metadata": {},
   "outputs": [],
   "source": [
    "train_all_df = [pd.read_csv(file) for file in train_all]\n",
    "dev_all_df = [pd.read_csv(file) for file in dev_all]\n",
    "\n",
    "train_LM_df = [pd.read_csv(file) for file in train_LM]\n",
    "dev_LM_df = [pd.read_csv(file) for file in dev_LM]"
   ]
  },
  {
   "cell_type": "code",
   "execution_count": 4,
   "id": "29169fbe",
   "metadata": {},
   "outputs": [],
   "source": [
    "train_all_df = pd.concat(train_all_df)\n",
    "train_LM_df = pd.concat(train_LM_df)\n",
    "\n",
    "dev_all_df = pd.concat(dev_all_df)\n",
    "dev_LM_df = pd.concat(dev_LM_df)"
   ]
  },
  {
   "cell_type": "code",
   "execution_count": 5,
   "id": "840f7bd1",
   "metadata": {},
   "outputs": [],
   "source": [
    "train_all_df.to_csv('../Dataset/train-aug-tags.csv', index=False)\n",
    "train_LM_df.to_csv('../Dataset/train-aug-LM.csv', index=False)\n",
    "\n",
    "dev_all_df.to_csv('../Dataset/dev-aug-tags.csv', index=False)\n",
    "dev_LM_df.to_csv('../Dataset/dev-aug-LM.csv', index=False)"
   ]
  },
  {
   "cell_type": "code",
   "execution_count": 6,
   "id": "7362d48a",
   "metadata": {},
   "outputs": [],
   "source": [
    "langs = train_all_df.lang.unique().tolist()"
   ]
  },
  {
   "cell_type": "code",
   "execution_count": 13,
   "id": "337775de",
   "metadata": {},
   "outputs": [
    {
     "name": "stdout",
     "output_type": "stream",
     "text": [
      "Lang : de Info Percentage: 51.05%\n",
      "Lang : de Info Percentage: 47.95%\n",
      "Lang : uk Info Percentage: 44.08%\n",
      "Lang : uk Info Percentage: 43.29%\n",
      "Lang : zh Info Percentage: 69.41%\n",
      "Lang : zh Info Percentage: 70.30%\n",
      "Lang : bn Info Percentage: 67.80%\n",
      "Lang : bn Info Percentage: 65.02%\n",
      "Lang : en Info Percentage: 79.97%\n",
      "Lang : en Info Percentage: 78.97%\n",
      "Lang : pt Info Percentage: 66.40%\n",
      "Lang : pt Info Percentage: 66.35%\n",
      "Lang : fr Info Percentage: 61.53%\n",
      "Lang : fr Info Percentage: 63.67%\n",
      "Lang : it Info Percentage: 60.05%\n",
      "Lang : it Info Percentage: 61.73%\n",
      "Lang : hi Info Percentage: 77.74%\n",
      "Lang : hi Info Percentage: 75.63%\n",
      "Lang : sv Info Percentage: 70.90%\n",
      "Lang : sv Info Percentage: 70.06%\n",
      "Lang : fa Info Percentage: 88.03%\n",
      "Lang : fa Info Percentage: 86.89%\n",
      "Lang : es Info Percentage: 65.44%\n",
      "Lang : es Info Percentage: 64.95%\n"
     ]
    }
   ],
   "source": [
    "infos = []\n",
    "for l in langs:\n",
    "    data = train_all_df[train_all_df.lang==l]\n",
    "    \n",
    "    temp = data[data['sent']!=data['augmented_sen']]\n",
    "#     data['augmented_sen'] = data['augmented_sen'].apply(lambda x: x.strip())\n",
    "    info_percent = temp.shape[0]/data.shape[0]\n",
    "    print(f\"Lang : {l} Info Percentage: {info_percent*100:.2f}%\")\n",
    "    infos.append((l,'train','tags',info_percent))\n",
    "    \n",
    "    data_dev = dev_all_df[dev_all_df.lang==l]\n",
    "#     data_dev['augmented_sen'] = data_dev['augmented_sen'].apply(lambda x: x.strip())\n",
    "    temp = data_dev[data_dev['sent']!=data_dev['augmented_sen']]\n",
    "    info_percent = temp.shape[0]/data_dev.shape[0]\n",
    "    infos.append((l,'dev','tags',info_percent))\n",
    "    \n",
    "    print(f\"Lang : {l} Info Percentage: {info_percent*100:.2f}%\")\n"
   ]
  },
  {
   "cell_type": "code",
   "execution_count": 8,
   "id": "2feceb06",
   "metadata": {},
   "outputs": [
    {
     "name": "stdout",
     "output_type": "stream",
     "text": [
      "Lang : de Info Percentage: 19.57%\n",
      "Lang : de Info Percentage: 17.61%\n",
      "Lang : uk Info Percentage: 25.52%\n",
      "Lang : uk Info Percentage: 25.06%\n",
      "Lang : zh Info Percentage: 30.13%\n",
      "Lang : zh Info Percentage: 30.89%\n",
      "Lang : bn Info Percentage: 34.24%\n",
      "Lang : bn Info Percentage: 29.84%\n",
      "Lang : en Info Percentage: 32.77%\n",
      "Lang : en Info Percentage: 33.91%\n",
      "Lang : pt Info Percentage: 33.11%\n",
      "Lang : pt Info Percentage: 32.59%\n",
      "Lang : fr Info Percentage: 21.35%\n",
      "Lang : fr Info Percentage: 23.83%\n",
      "Lang : it Info Percentage: 27.22%\n",
      "Lang : it Info Percentage: 28.00%\n",
      "Lang : hi Info Percentage: 44.80%\n",
      "Lang : hi Info Percentage: 43.08%\n",
      "Lang : sv Info Percentage: 45.63%\n",
      "Lang : sv Info Percentage: 41.29%\n",
      "Lang : fa Info Percentage: 43.10%\n",
      "Lang : fa Info Percentage: 39.81%\n",
      "Lang : es Info Percentage: 17.51%\n",
      "Lang : es Info Percentage: 14.54%\n"
     ]
    }
   ],
   "source": [
    "for l in langs:\n",
    "    data = train_LM_df[train_LM_df.lang==l]\n",
    "    \n",
    "    temp = data[data['sent']!=data['augmented_sen']]\n",
    "    info_percent = temp.shape[0]/data.shape[0]\n",
    "    print(f\"Lang : {l} Info Percentage: {info_percent*100:.2f}%\")\n",
    "    infos.append((l,'train','LM',info_percent))\n",
    "    \n",
    "    data_dev = dev_LM_df[dev_LM_df.lang==l]\n",
    "    temp = data_dev[data_dev['sent']!=data_dev['augmented_sen']]\n",
    "    info_percent = temp.shape[0]/data_dev.shape[0]\n",
    "    print(f\"Lang : {l} Info Percentage: {info_percent*100:.2f}%\")\n",
    "    infos.append((l,'dev','LM',info_percent))"
   ]
  },
  {
   "cell_type": "code",
   "execution_count": 9,
   "id": "4b510740",
   "metadata": {},
   "outputs": [],
   "source": [
    "info_df = pd.DataFrame(infos, columns = ['Lang','Set','Extractor','Percentage'])"
   ]
  },
  {
   "cell_type": "code",
   "execution_count": 10,
   "id": "148339b0",
   "metadata": {},
   "outputs": [],
   "source": [
    "info_df.to_csv('info-pct.csv',index=False)"
   ]
  },
  {
   "cell_type": "code",
   "execution_count": 11,
   "id": "9f227ace",
   "metadata": {},
   "outputs": [
    {
     "data": {
      "text/plain": [
       "['../Dataset/dev-wiki-en-tags.csv',\n",
       " '../Dataset/dev-wiki-sv-tags.csv',\n",
       " '../Dataset/dev-wiki-fr-tags.csv',\n",
       " '../Dataset/dev-wiki-zh-tags.csv',\n",
       " '../Dataset/dev-wiki-it-tags.csv',\n",
       " '../Dataset/dev-wiki-de-tags.csv',\n",
       " '../Dataset/dev-wiki-es-tags.csv',\n",
       " '../Dataset/dev-aug-tags.csv',\n",
       " '../Dataset/dev-wiki-uk-tags.csv',\n",
       " '../Dataset/dev-wiki-fa-tags.csv',\n",
       " '../Dataset/dev-wiki-hi-tags.csv',\n",
       " '../Dataset/dev-wiki-pt-tags.csv',\n",
       " '../Dataset/dev-wiki-bn-tags.csv',\n",
       " '../Dataset/.~lock.dev-wiki-zh-tags.csv#']"
      ]
     },
     "execution_count": 11,
     "metadata": {},
     "output_type": "execute_result"
    }
   ],
   "source": [
    "dev_all"
   ]
  },
  {
   "cell_type": "code",
   "execution_count": null,
   "id": "0c7ea31a",
   "metadata": {},
   "outputs": [],
   "source": []
  }
 ],
 "metadata": {
  "kernelspec": {
   "display_name": "Python 3 (ipykernel)",
   "language": "python",
   "name": "python3"
  },
  "language_info": {
   "codemirror_mode": {
    "name": "ipython",
    "version": 3
   },
   "file_extension": ".py",
   "mimetype": "text/x-python",
   "name": "python",
   "nbconvert_exporter": "python",
   "pygments_lexer": "ipython3",
   "version": "3.10.6"
  }
 },
 "nbformat": 4,
 "nbformat_minor": 5
}
