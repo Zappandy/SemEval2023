{
 "cells": [
  {
   "cell_type": "code",
   "execution_count": null,
   "id": "e2ac1c9e",
   "metadata": {},
   "outputs": [],
   "source": [
    "import pandas as pd\n",
    "from operator import add\n",
    "from functools import reduce\n",
    "from sklearn.metrics import classification_report\n",
    "import os"
   ]
  },
  {
   "cell_type": "code",
   "execution_count": null,
   "id": "354c661f",
   "metadata": {},
   "outputs": [],
   "source": [
    "lang = 'fa'\n",
    "eval_set = 'dev'\n",
    "dir = f'./{lang}/{eval_set}'"
   ]
  },
  {
   "cell_type": "code",
   "execution_count": null,
   "id": "03754e3e",
   "metadata": {},
   "outputs": [],
   "source": [
    "files = os.listdir(dir)\n",
    "files = [f for f in files if f.endswith('.csv')]\n",
    "files"
   ]
  },
  {
   "cell_type": "code",
   "execution_count": null,
   "id": "8f9737e3",
   "metadata": {},
   "outputs": [],
   "source": [
    "dfs = [pd.read_csv(os.path.join(dir,f))  for f in files]"
   ]
  },
  {
   "cell_type": "code",
   "execution_count": null,
   "id": "e0fd48ff",
   "metadata": {},
   "outputs": [],
   "source": [
    "merged = pd.DataFrame()\n",
    "for i in range(len(dfs)):\n",
    "    col = f'preds{i}'\n",
    "    merged[col] = dfs[i].predictions\n",
    "    merged[col] = merged[col].apply(lambda x: x.split())\n",
    "\n",
    "# merged.shape"
   ]
  },
  {
   "cell_type": "code",
   "execution_count": null,
   "id": "79aa92ae",
   "metadata": {},
   "outputs": [],
   "source": [
    "merged['true'] = dfs[0].true\n",
    "merged['true'] = merged['true'].apply(lambda x: x.split())"
   ]
  },
  {
   "cell_type": "code",
   "execution_count": null,
   "id": "c50bbfef",
   "metadata": {},
   "outputs": [],
   "source": [
    "preds = [reduce(add, merged['preds'+str(i)].array) for i in range(len(dfs))]\n",
    "true = reduce(add, merged['true'].array)"
   ]
  },
  {
   "cell_type": "code",
   "execution_count": null,
   "id": "cbad0dc7",
   "metadata": {},
   "outputs": [],
   "source": [
    "df = pd.DataFrame(preds)\n",
    "df = df.T"
   ]
  },
  {
   "cell_type": "code",
   "execution_count": null,
   "id": "47e2c3c0",
   "metadata": {},
   "outputs": [],
   "source": [
    "from collections import Counter\n",
    "\n",
    "def ensemble(x):\n",
    "    \n",
    "    votes = Counter(x.values.tolist())\n",
    "#     votes = sorted(votes.items(), key=lambda x: x[1], reverse=True)\n",
    "    mx = 0\n",
    "    winner = 'O'\n",
    "    for key, val in votes.items():\n",
    "        if val>mx:\n",
    "            winner = key\n",
    "            mx = val\n",
    "        \n",
    "    return winner\n",
    "\n",
    "df['ensemble'] = df.apply(lambda x: ensemble(x), axis=1)\n",
    "df.shape"
   ]
  },
  {
   "cell_type": "code",
   "execution_count": null,
   "id": "e8e1a89a",
   "metadata": {},
   "outputs": [],
   "source": [
    "print(classification_report(df['ensemble'], true, output_dict=True)['macro avg']['f1-score'])"
   ]
  },
  {
   "cell_type": "code",
   "execution_count": null,
   "id": "3178edd9",
   "metadata": {},
   "outputs": [],
   "source": []
  }
 ],
 "metadata": {
  "kernelspec": {
   "display_name": "Python 3 (ipykernel)",
   "language": "python",
   "name": "python3"
  },
  "language_info": {
   "codemirror_mode": {
    "name": "ipython",
    "version": 3
   },
   "file_extension": ".py",
   "mimetype": "text/x-python",
   "name": "python",
   "nbconvert_exporter": "python",
   "pygments_lexer": "ipython3",
   "version": "3.10.6"
  }
 },
 "nbformat": 4,
 "nbformat_minor": 5
}
